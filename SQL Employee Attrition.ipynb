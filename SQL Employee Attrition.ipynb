{
 "cells": [
  {
   "cell_type": "markdown",
   "id": "a05f0480-db2b-4861-9b3e-ec4bc5604882",
   "metadata": {},
   "source": [
    "# SQL Employee Attrition"
   ]
  },
  {
   "cell_type": "markdown",
   "id": "daa0b7dc-7347-4d9f-8a80-77008010b696",
   "metadata": {},
   "source": [
    "### Step 1: Import Libraries"
   ]
  },
  {
   "cell_type": "code",
   "execution_count": 1,
   "id": "9e1f252d-9114-4a20-a8ca-68415220ab26",
   "metadata": {},
   "outputs": [],
   "source": [
    "import pandas as pd\n",
    "import sqlite3\n",
    "import zipfile\n",
    "import os\n",
    "import matplotlib.pyplot as plt\n",
    "import seaborn as sns"
   ]
  },
  {
   "cell_type": "markdown",
   "id": "7f0a1f18-5cf6-484e-ab1c-8afbd14fbf50",
   "metadata": {},
   "source": [
    "### Step 2: Extract and Load Data"
   ]
  },
  {
   "cell_type": "code",
   "execution_count": 2,
   "id": "33c00be7-e49c-412e-a419-b158d3067892",
   "metadata": {},
   "outputs": [
    {
     "name": "stdout",
     "output_type": "stream",
     "text": [
      "Extracted files: ['NSI_National_Health_Care_Retention_Report.pdf', 'watson_healthcare_modified.csv', 'watson_shap_values_for_testset.csv']\n",
      "Files in extracted folder: ['ENB2012_data.xlsx', 'NSI_National_Health_Care_Retention_Report.pdf', 'test_dataset.csv', 'train_dataset.csv', 'watson_healthcare_modified.csv', 'watson_shap_values_for_testset.csv']\n",
      "\n",
      "Preview of Attrition Dataset:\n",
      "   EmployeeID  Age Attrition     BusinessTravel  DailyRate  Department  \\\n",
      "0     1313919   41        No      Travel_Rarely       1102  Cardiology   \n",
      "1     1200302   49        No  Travel_Frequently        279   Maternity   \n",
      "2     1060315   37       Yes      Travel_Rarely       1373   Maternity   \n",
      "3     1272912   33        No  Travel_Frequently       1392   Maternity   \n",
      "4     1414939   27        No      Travel_Rarely        591   Maternity   \n",
      "\n",
      "   DistanceFromHome  Education EducationField  EmployeeCount  ...  \\\n",
      "0                 1          2  Life Sciences              1  ...   \n",
      "1                 8          1  Life Sciences              1  ...   \n",
      "2                 2          2          Other              1  ...   \n",
      "3                 3          4  Life Sciences              1  ...   \n",
      "4                 2          1        Medical              1  ...   \n",
      "\n",
      "   RelationshipSatisfaction StandardHours  Shift  TotalWorkingYears  \\\n",
      "0                         1            80      0                  8   \n",
      "1                         4            80      1                 10   \n",
      "2                         2            80      0                  7   \n",
      "3                         3            80      0                  8   \n",
      "4                         4            80      1                  6   \n",
      "\n",
      "   TrainingTimesLastYear WorkLifeBalance  YearsAtCompany YearsInCurrentRole  \\\n",
      "0                      0               1               6                  4   \n",
      "1                      3               3              10                  7   \n",
      "2                      3               3               0                  0   \n",
      "3                      3               3               8                  7   \n",
      "4                      3               3               2                  2   \n",
      "\n",
      "   YearsSinceLastPromotion  YearsWithCurrManager  \n",
      "0                        0                     5  \n",
      "1                        1                     7  \n",
      "2                        0                     0  \n",
      "3                        3                     0  \n",
      "4                        2                     2  \n",
      "\n",
      "[5 rows x 35 columns]\n",
      "\n",
      "Preview of SHAP Values Dataset:\n",
      "   EmployeeID       Age  BusinessTravel  DailyRate  Department  \\\n",
      "0       10011 -0.082934       -0.049007   0.033110   -0.052101   \n",
      "1       10012 -0.061724       -0.185156   0.004095   -0.055188   \n",
      "2       10013  0.006087       -0.057510   0.017782   -0.002091   \n",
      "3       10014 -0.012834        0.242323  -0.044950   -0.039829   \n",
      "4       10015 -0.035391       -0.023601   0.014274    0.015462   \n",
      "\n",
      "   DistanceFromHome  Education  EducationField  EmployeeNumber  \\\n",
      "0         -0.094783  -0.007782       -0.056123               0   \n",
      "1         -0.063846  -0.032673       -0.057622               0   \n",
      "2         -0.008152  -0.028928       -0.070993               0   \n",
      "3         -0.133996  -0.034905       -0.051805               0   \n",
      "4         -0.138073   0.007920        0.052945               0   \n",
      "\n",
      "   EnvironmentSatisfaction  ...  RelationshipSatisfaction  ShiftSchedule  \\\n",
      "0                -0.106410  ...                  0.109181      -0.195666   \n",
      "1                -0.025947  ...                 -0.035909      -0.169545   \n",
      "2                -0.042936  ...                 -0.038788      -0.169869   \n",
      "3                -0.053241  ...                 -0.024949       0.165522   \n",
      "4                -0.072430  ...                 -0.022945       0.126107   \n",
      "\n",
      "      State  TotalWorkingYears  TrainingTimesLastYear  WorkLifeBalance  \\\n",
      "0  0.056648           0.011107              -0.017621        -0.000377   \n",
      "1  0.043217           0.079458              -0.052512        -0.043295   \n",
      "2  0.099417          -0.009016              -0.046488        -0.080971   \n",
      "3  0.033103          -0.006922              -0.044399        -0.036111   \n",
      "4  0.101879          -0.028295              -0.055819        -0.049084   \n",
      "\n",
      "   YearsAtCompany  YearsInCurrentRole  YearsSinceLastPromotion  \\\n",
      "0       -0.032997            0.003732                -0.042552   \n",
      "1        0.060303            0.016709                -0.037952   \n",
      "2       -0.022697            0.007191                -0.037359   \n",
      "3       -0.074827           -0.025470                 0.004950   \n",
      "4       -0.013705            0.011744                -0.039383   \n",
      "\n",
      "   YearsWithCurrManager  \n",
      "0             -0.120689  \n",
      "1              0.152560  \n",
      "2             -0.110958  \n",
      "3             -0.036003  \n",
      "4             -0.054550  \n",
      "\n",
      "[5 rows x 33 columns]\n",
      "\n",
      "Data loaded into SQLite database.\n"
     ]
    }
   ],
   "source": [
    "# Extract the ZIP file\n",
    "zip_file_path = 'Employee Attrition for Healthcare.zip'\n",
    "extracted_folder = 'extracted_data'\n",
    "\n",
    "with zipfile.ZipFile(zip_file_path, 'r') as zip_ref:\n",
    "    zip_ref.extractall(extracted_folder)\n",
    "    print(f\"Extracted files: {zip_ref.namelist()}\")\n",
    "\n",
    "# Verify extracted files\n",
    "files = os.listdir(extracted_folder)\n",
    "print(f\"Files in extracted folder: {files}\")\n",
    "\n",
    "# Load data into Pandas DataFrames\n",
    "attrition_file = os.path.join(extracted_folder, 'watson_healthcare_modified.csv')\n",
    "shap_file = os.path.join(extracted_folder, 'watson_shap_values_for_testset.csv')\n",
    "\n",
    "df_attrition = pd.read_csv(attrition_file)\n",
    "df_shap = pd.read_csv(shap_file)\n",
    "\n",
    "# Display data previews\n",
    "print(\"\\nPreview of Attrition Dataset:\")\n",
    "print(df_attrition.head())\n",
    "\n",
    "print(\"\\nPreview of SHAP Values Dataset:\")\n",
    "print(df_shap.head())\n",
    "\n",
    "# Load data into SQLite\n",
    "db_path = 'employee_attrition.db'\n",
    "conn = sqlite3.connect(db_path)\n",
    "\n",
    "# Save DataFrames to SQLite\n",
    "df_attrition.to_sql('attrition', conn, if_exists='replace', index=False)\n",
    "df_shap.to_sql('shap_values', conn, if_exists='replace', index=False)\n",
    "\n",
    "print(\"\\nData loaded into SQLite database.\")\n"
   ]
  },
  {
   "cell_type": "markdown",
   "id": "6820f760-22e0-4a60-921c-4da8e7bbea4f",
   "metadata": {},
   "source": [
    "### Step 3: Explore the Database"
   ]
  },
  {
   "cell_type": "code",
   "execution_count": 3,
   "id": "c564fa9c-b810-40e7-8eca-a905d168c9a0",
   "metadata": {},
   "outputs": [
    {
     "name": "stdout",
     "output_type": "stream",
     "text": [
      "\n",
      "Tables in the Database:\n",
      "          name\n",
      "0    attrition\n",
      "1  shap_values\n",
      "\n",
      "Schema for 'attrition' Table:\n",
      "    cid                      name     type  notnull dflt_value  pk\n",
      "0     0                EmployeeID  INTEGER        0       None   0\n",
      "1     1                       Age  INTEGER        0       None   0\n",
      "2     2                 Attrition     TEXT        0       None   0\n",
      "3     3            BusinessTravel     TEXT        0       None   0\n",
      "4     4                 DailyRate  INTEGER        0       None   0\n",
      "5     5                Department     TEXT        0       None   0\n",
      "6     6          DistanceFromHome  INTEGER        0       None   0\n",
      "7     7                 Education  INTEGER        0       None   0\n",
      "8     8            EducationField     TEXT        0       None   0\n",
      "9     9             EmployeeCount  INTEGER        0       None   0\n",
      "10   10   EnvironmentSatisfaction  INTEGER        0       None   0\n",
      "11   11                    Gender     TEXT        0       None   0\n",
      "12   12                HourlyRate  INTEGER        0       None   0\n",
      "13   13            JobInvolvement  INTEGER        0       None   0\n",
      "14   14                  JobLevel  INTEGER        0       None   0\n",
      "15   15                   JobRole     TEXT        0       None   0\n",
      "16   16           JobSatisfaction  INTEGER        0       None   0\n",
      "17   17             MaritalStatus     TEXT        0       None   0\n",
      "18   18             MonthlyIncome  INTEGER        0       None   0\n",
      "19   19               MonthlyRate  INTEGER        0       None   0\n",
      "20   20        NumCompaniesWorked  INTEGER        0       None   0\n",
      "21   21                    Over18     TEXT        0       None   0\n",
      "22   22                  OverTime     TEXT        0       None   0\n",
      "23   23         PercentSalaryHike  INTEGER        0       None   0\n",
      "24   24         PerformanceRating  INTEGER        0       None   0\n",
      "25   25  RelationshipSatisfaction  INTEGER        0       None   0\n",
      "26   26             StandardHours  INTEGER        0       None   0\n",
      "27   27                     Shift  INTEGER        0       None   0\n",
      "28   28         TotalWorkingYears  INTEGER        0       None   0\n",
      "29   29     TrainingTimesLastYear  INTEGER        0       None   0\n",
      "30   30           WorkLifeBalance  INTEGER        0       None   0\n",
      "31   31            YearsAtCompany  INTEGER        0       None   0\n",
      "32   32        YearsInCurrentRole  INTEGER        0       None   0\n",
      "33   33   YearsSinceLastPromotion  INTEGER        0       None   0\n",
      "34   34      YearsWithCurrManager  INTEGER        0       None   0\n",
      "\n",
      "Schema for 'shap_values' Table:\n",
      "    cid                      name     type  notnull dflt_value  pk\n",
      "0     0                EmployeeID  INTEGER        0       None   0\n",
      "1     1                       Age     REAL        0       None   0\n",
      "2     2            BusinessTravel     REAL        0       None   0\n",
      "3     3                 DailyRate     REAL        0       None   0\n",
      "4     4                Department     REAL        0       None   0\n",
      "5     5          DistanceFromHome     REAL        0       None   0\n",
      "6     6                 Education     REAL        0       None   0\n",
      "7     7            EducationField     REAL        0       None   0\n",
      "8     8            EmployeeNumber  INTEGER        0       None   0\n",
      "9     9   EnvironmentSatisfaction     REAL        0       None   0\n",
      "10   10                    Gender     REAL        0       None   0\n",
      "11   11                HourlyRate     REAL        0       None   0\n",
      "12   12            JobInvolvement     REAL        0       None   0\n",
      "13   13                  JobLevel     REAL        0       None   0\n",
      "14   14                   JobRole     REAL        0       None   0\n",
      "15   15           JobSatisfaction     REAL        0       None   0\n",
      "16   16             MaritalStatus     REAL        0       None   0\n",
      "17   17             MonthlyIncome     REAL        0       None   0\n",
      "18   18               MonthlyRate  INTEGER        0       None   0\n",
      "19   19        NumCompaniesWorked     REAL        0       None   0\n",
      "20   20                  OverTime     REAL        0       None   0\n",
      "21   21         PercentSalaryHike     REAL        0       None   0\n",
      "22   22         PerformanceRating     REAL        0       None   0\n",
      "23   23  RelationshipSatisfaction     REAL        0       None   0\n",
      "24   24             ShiftSchedule     REAL        0       None   0\n",
      "25   25                     State     REAL        0       None   0\n",
      "26   26         TotalWorkingYears     REAL        0       None   0\n",
      "27   27     TrainingTimesLastYear     REAL        0       None   0\n",
      "28   28           WorkLifeBalance     REAL        0       None   0\n",
      "29   29            YearsAtCompany     REAL        0       None   0\n",
      "30   30        YearsInCurrentRole     REAL        0       None   0\n",
      "31   31   YearsSinceLastPromotion     REAL        0       None   0\n",
      "32   32      YearsWithCurrManager     REAL        0       None   0\n",
      "\n",
      "Sample Data from 'attrition' Table:\n",
      "   EmployeeID  Age Attrition     BusinessTravel  DailyRate  Department  \\\n",
      "0     1313919   41        No      Travel_Rarely       1102  Cardiology   \n",
      "1     1200302   49        No  Travel_Frequently        279   Maternity   \n",
      "2     1060315   37       Yes      Travel_Rarely       1373   Maternity   \n",
      "3     1272912   33        No  Travel_Frequently       1392   Maternity   \n",
      "4     1414939   27        No      Travel_Rarely        591   Maternity   \n",
      "\n",
      "   DistanceFromHome  Education EducationField  EmployeeCount  ...  \\\n",
      "0                 1          2  Life Sciences              1  ...   \n",
      "1                 8          1  Life Sciences              1  ...   \n",
      "2                 2          2          Other              1  ...   \n",
      "3                 3          4  Life Sciences              1  ...   \n",
      "4                 2          1        Medical              1  ...   \n",
      "\n",
      "   RelationshipSatisfaction StandardHours  Shift  TotalWorkingYears  \\\n",
      "0                         1            80      0                  8   \n",
      "1                         4            80      1                 10   \n",
      "2                         2            80      0                  7   \n",
      "3                         3            80      0                  8   \n",
      "4                         4            80      1                  6   \n",
      "\n",
      "   TrainingTimesLastYear WorkLifeBalance  YearsAtCompany YearsInCurrentRole  \\\n",
      "0                      0               1               6                  4   \n",
      "1                      3               3              10                  7   \n",
      "2                      3               3               0                  0   \n",
      "3                      3               3               8                  7   \n",
      "4                      3               3               2                  2   \n",
      "\n",
      "   YearsSinceLastPromotion  YearsWithCurrManager  \n",
      "0                        0                     5  \n",
      "1                        1                     7  \n",
      "2                        0                     0  \n",
      "3                        3                     0  \n",
      "4                        2                     2  \n",
      "\n",
      "[5 rows x 35 columns]\n"
     ]
    }
   ],
   "source": [
    "# List all tables in the database\n",
    "query = \"SELECT name FROM sqlite_master WHERE type='table';\"\n",
    "tables = pd.read_sql_query(query, conn)\n",
    "print(\"\\nTables in the Database:\")\n",
    "print(tables)\n",
    "\n",
    "# Check the schema of the 'attrition' table\n",
    "query = \"PRAGMA table_info(attrition);\"\n",
    "schema_attrition = pd.read_sql_query(query, conn)\n",
    "print(\"\\nSchema for 'attrition' Table:\")\n",
    "print(schema_attrition)\n",
    "\n",
    "# Check the schema of the 'shap_values' table\n",
    "query = \"PRAGMA table_info(shap_values);\"\n",
    "schema_shap = pd.read_sql_query(query, conn)\n",
    "print(\"\\nSchema for 'shap_values' Table:\")\n",
    "print(schema_shap)\n",
    "\n",
    "# Preview the 'attrition' table\n",
    "query = \"SELECT * FROM attrition LIMIT 5;\"\n",
    "attrition_sample = pd.read_sql_query(query, conn)\n",
    "print(\"\\nSample Data from 'attrition' Table:\")\n",
    "print(attrition_sample)"
   ]
  },
  {
   "cell_type": "markdown",
   "id": "2a80aff8-4ff1-49cb-8e29-d1a6e14c2664",
   "metadata": {},
   "source": [
    "### Step 4: SQL Analysis Queries"
   ]
  },
  {
   "cell_type": "code",
   "execution_count": 5,
   "id": "b44bfa9d-f879-4a3b-95ca-0bbbc7398849",
   "metadata": {},
   "outputs": [
    {
     "name": "stdout",
     "output_type": "stream",
     "text": [
      "\n",
      "Attrition Rate by Department:\n",
      "   Department  AttritionCount  TotalEmployees  AttritionRate\n",
      "0  Cardiology              74             531      13.935970\n",
      "1   Maternity              98             796      12.311558\n",
      "2   Neurology              27             349       7.736390\n"
     ]
    }
   ],
   "source": [
    "query = \"\"\"\n",
    "SELECT Department, \n",
    "       COUNT(CASE WHEN Attrition = 'Yes' THEN 1 END) AS AttritionCount,\n",
    "       COUNT(*) AS TotalEmployees,\n",
    "       (COUNT(CASE WHEN Attrition = 'Yes' THEN 1 END) * 100.0) / COUNT(*) AS AttritionRate\n",
    "FROM attrition\n",
    "GROUP BY Department\n",
    "ORDER BY AttritionRate DESC;\n",
    "\"\"\"\n",
    "department_attrition = pd.read_sql_query(query, conn)\n",
    "print(\"\\nAttrition Rate by Department:\")\n",
    "print(department_attrition)"
   ]
  },
  {
   "cell_type": "code",
   "execution_count": 6,
   "id": "9e4b490d-077d-4eae-befa-69b82b9a1835",
   "metadata": {},
   "outputs": [
    {
     "name": "stdout",
     "output_type": "stream",
     "text": [
      "\n",
      "Attrition by Gender and Age Group:\n",
      "   Gender  AgeGroup  AttritionCount  TotalEmployees  AttritionRate\n",
      "0  Female  Under 30              47             140      33.571429\n",
      "1    Male  Under 30              54             245      22.040816\n",
      "2    Male   Over 50               8              90       8.888889\n",
      "3  Female     30-50              37             466       7.939914\n",
      "4    Male     30-50              51             663       7.692308\n",
      "5  Female   Over 50               2              72       2.777778\n"
     ]
    }
   ],
   "source": [
    "query = \"\"\"\n",
    "SELECT Gender, \n",
    "       CASE \n",
    "           WHEN Age < 30 THEN 'Under 30'\n",
    "           WHEN Age BETWEEN 30 AND 50 THEN '30-50'\n",
    "           ELSE 'Over 50'\n",
    "       END AS AgeGroup,\n",
    "       COUNT(CASE WHEN Attrition = 'Yes' THEN 1 END) AS AttritionCount,\n",
    "       COUNT(*) AS TotalEmployees,\n",
    "       (COUNT(CASE WHEN Attrition = 'Yes' THEN 1 END) * 100.0) / COUNT(*) AS AttritionRate\n",
    "FROM attrition\n",
    "GROUP BY Gender, AgeGroup\n",
    "ORDER BY AttritionRate DESC;\n",
    "\"\"\"\n",
    "gender_age_attrition = pd.read_sql_query(query, conn)\n",
    "print(\"\\nAttrition by Gender and Age Group:\")\n",
    "print(gender_age_attrition)\n"
   ]
  },
  {
   "cell_type": "code",
   "execution_count": 7,
   "id": "0cb949fa-b9e0-48d3-8bdf-bd7dd25fc8bc",
   "metadata": {},
   "outputs": [
    {
     "name": "stdout",
     "output_type": "stream",
     "text": [
      "\n",
      "Attrition Based on Job Satisfaction:\n",
      "   JobSatisfaction  AttritionCount  TotalEmployees  AttritionRate\n",
      "0                1              52             329      15.805471\n",
      "1                2              42             310      13.548387\n",
      "2                3              60             507      11.834320\n",
      "3                4              45             530       8.490566\n"
     ]
    }
   ],
   "source": [
    "query = \"\"\"\n",
    "SELECT JobSatisfaction, \n",
    "       COUNT(CASE WHEN Attrition = 'Yes' THEN 1 END) AS AttritionCount,\n",
    "       COUNT(*) AS TotalEmployees,\n",
    "       (COUNT(CASE WHEN Attrition = 'Yes' THEN 1 END) * 100.0) / COUNT(*) AS AttritionRate\n",
    "FROM attrition\n",
    "GROUP BY JobSatisfaction\n",
    "ORDER BY JobSatisfaction;\n",
    "\"\"\"\n",
    "job_satisfaction_attrition = pd.read_sql_query(query, conn)\n",
    "print(\"\\nAttrition Based on Job Satisfaction:\")\n",
    "print(job_satisfaction_attrition)\n"
   ]
  },
  {
   "cell_type": "code",
   "execution_count": 8,
   "id": "05ca4b07-35a1-40ee-9449-3a38ac8a4212",
   "metadata": {},
   "outputs": [
    {
     "name": "stdout",
     "output_type": "stream",
     "text": [
      "\n",
      "Attrition by Business Travel Frequency:\n",
      "      BusinessTravel  AttritionCount  TotalEmployees  AttritionRate\n",
      "0  Travel_Frequently              57             320      17.812500\n",
      "1      Travel_Rarely             126            1184      10.641892\n",
      "2         Non-Travel              16             172       9.302326\n"
     ]
    }
   ],
   "source": [
    "query = \"\"\"\n",
    "SELECT BusinessTravel, \n",
    "       COUNT(CASE WHEN Attrition = 'Yes' THEN 1 END) AS AttritionCount,\n",
    "       COUNT(*) AS TotalEmployees,\n",
    "       (COUNT(CASE WHEN Attrition = 'Yes' THEN 1 END) * 100.0) / COUNT(*) AS AttritionRate\n",
    "FROM attrition\n",
    "GROUP BY BusinessTravel\n",
    "ORDER BY AttritionRate DESC;\n",
    "\"\"\"\n",
    "business_travel_attrition = pd.read_sql_query(query, conn)\n",
    "print(\"\\nAttrition by Business Travel Frequency:\")\n",
    "print(business_travel_attrition)\n"
   ]
  },
  {
   "cell_type": "code",
   "execution_count": 14,
   "id": "22243d04-f894-4445-ab60-a0c855f67912",
   "metadata": {},
   "outputs": [],
   "source": [
    "# Query for SHAP summary\n",
    "query = \"\"\"\n",
    "SELECT \n",
    "    AVG(Age) AS AvgAgeSHAP,\n",
    "    AVG(DailyRate) AS AvgDailyRateSHAP,\n",
    "    AVG(EnvironmentSatisfaction) AS AvgEnvSatisfactionSHAP,\n",
    "    AVG(MonthlyIncome) AS AvgMonthlyIncomeSHAP,\n",
    "    AVG(YearsAtCompany) AS AvgYearsAtCompanySHAP\n",
    "FROM shap_values;\n",
    "\"\"\""
   ]
  },
  {
   "cell_type": "markdown",
   "id": "160bba0d-7206-4817-8bfa-fa2b73492db2",
   "metadata": {},
   "source": [
    "### Step 5: Save results to CSV files"
   ]
  },
  {
   "cell_type": "code",
   "execution_count": 13,
   "id": "13e29712-fe27-485c-8239-23f2e9774a06",
   "metadata": {},
   "outputs": [
    {
     "name": "stdout",
     "output_type": "stream",
     "text": [
      "\n",
      "SHAP Summary for Selected Features:\n",
      "   AvgAgeSHAP  AvgDailyRateSHAP  AvgEnvSatisfactionSHAP  AvgMonthlyIncomeSHAP  \\\n",
      "0   -0.011018         -0.005466               -0.008946             -0.028045   \n",
      "\n",
      "   AvgYearsAtCompanySHAP  \n",
      "0              -0.011789  \n",
      "SHAP Summary saved to 'shap_summary.csv'\n",
      "\n",
      "Key results saved to CSV files.\n"
     ]
    }
   ],
   "source": [
    "try:\n",
    "    shap_summary = pd.read_sql_query(query, conn)\n",
    "    print(\"\\nSHAP Summary for Selected Features:\")\n",
    "    print(shap_summary)\n",
    "except Exception as e:\n",
    "    print(f\"Error occurred while querying SHAP summary: {e}\")\n",
    "\n",
    "# Save results to CSV files with error handling\n",
    "try:\n",
    "    if 'department_attrition' in locals():\n",
    "        department_attrition.to_csv('department_attrition.csv', index=False)\n",
    "    else:\n",
    "        print(\"Warning: 'department_attrition' DataFrame is not defined.\")\n",
    "\n",
    "    if 'gender_age_attrition' in locals():\n",
    "        gender_age_attrition.to_csv('gender_age_attrition.csv', index=False)\n",
    "    else:\n",
    "        print(\"Warning: 'gender_age_attrition' DataFrame is not defined.\")\n",
    "\n",
    "    if 'job_satisfaction_attrition' in locals():\n",
    "        job_satisfaction_attrition.to_csv('job_satisfaction_attrition.csv', index=False)\n",
    "    else:\n",
    "        print(\"Warning: 'job_satisfaction_attrition' DataFrame is not defined.\")\n",
    "\n",
    "    if 'business_travel_attrition' in locals():\n",
    "        business_travel_attrition.to_csv('business_travel_attrition.csv', index=False)\n",
    "    else:\n",
    "        print(\"Warning: 'business_travel_attrition' DataFrame is not defined.\")\n",
    "\n",
    "    if 'shap_summary' in locals() and not shap_summary.empty:\n",
    "        shap_summary.to_csv('shap_summary.csv', index=False)\n",
    "        print(\"SHAP Summary saved to 'shap_summary.csv'\")\n",
    "    else:\n",
    "        print(\"Warning: 'shap_summary' DataFrame is empty or not defined.\")\n",
    "\n",
    "    print(\"\\nKey results saved to CSV files.\")\n",
    "except Exception as e:\n",
    "    print(f\"An unexpected error occurred while saving files: {e}\")"
   ]
  },
  {
   "cell_type": "markdown",
   "id": "46089501-16b0-4356-a31e-5743c876c512",
   "metadata": {},
   "source": [
    "### Step 6: Visualization"
   ]
  },
  {
   "cell_type": "code",
   "execution_count": 15,
   "id": "9840695a-80c9-4b82-9d90-06e57930ab76",
   "metadata": {},
   "outputs": [
    {
     "name": "stderr",
     "output_type": "stream",
     "text": [
      "C:\\Users\\milto\\AppData\\Local\\Temp\\ipykernel_20876\\2503852956.py:2: FutureWarning: \n",
      "\n",
      "Passing `palette` without assigning `hue` is deprecated and will be removed in v0.14.0. Assign the `y` variable to `hue` and set `legend=False` for the same effect.\n",
      "\n",
      "  sns.barplot(data=department_attrition, x='AttritionRate', y='Department', palette='viridis')\n"
     ]
    },
    {
     "data": {
      "image/png": "[encoded data removed]",
      "text/plain": [
       "<Figure size 1000x600 with 1 Axes>"
      ]
     },
     "metadata": {},
     "output_type": "display_data"
    }
   ],
   "source": [
    "plt.figure(figsize=(10, 6))\n",
    "sns.barplot(data=department_attrition, x='AttritionRate', y='Department', palette='viridis')\n",
    "plt.title('Attrition Rate by Department')\n",
    "plt.xlabel('Attrition Rate (%)')\n",
    "plt.ylabel('Department')\n",
    "plt.show()"
   ]
  }
 ],
 "metadata": {
  "kernelspec": {
   "display_name": "Python 3 (ipykernel)",
   "language": "python",
   "name": "python3"
  },
  "language_info": {
   "codemirror_mode": {
    "name": "ipython",
    "version": 3
   },
   "file_extension": ".py",
   "mimetype": "text/x-python",
   "name": "python",
   "nbconvert_exporter": "python",
   "pygments_lexer": "ipython3",
   "version": "3.12.7"
  }
 },
 "nbformat": 4,
 "nbformat_minor": 5
}
